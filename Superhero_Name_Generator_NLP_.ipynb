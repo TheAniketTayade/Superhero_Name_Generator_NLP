{
  "cells": [
    {
      "cell_type": "markdown",
      "metadata": {
        "id": "21XXWP7Fpt2L"
      },
      "source": [
        "\n",
        "\n",
        "\n",
        "# Superhero and Supervillain Name Generator\n",
        "\n",
        "---\n",
        "\n",
        "[Superhero Names Dataset](https://github.com/am1tyadav/superhero)"
      ]
    },
    {
      "cell_type": "code",
      "execution_count": null,
      "metadata": {
        "id": "srULhalZpt2M",
        "colab": {
          "base_uri": "https://localhost:8080/"
        },
        "outputId": "ff104ce8-d30d-4f5a-ab20-b284d8b3e703"
      },
      "outputs": [
        {
          "output_type": "stream",
          "name": "stdout",
          "text": [
            "Cloning into 'superhero'...\n",
            "remote: Enumerating objects: 8, done.\u001b[K\n",
            "remote: Counting objects: 100% (8/8), done.\u001b[K\n",
            "remote: Compressing objects: 100% (7/7), done.\u001b[K\n",
            "remote: Total 8 (delta 0), reused 4 (delta 0), pack-reused 0\u001b[K\n",
            "Unpacking objects: 100% (8/8), done.\n"
          ]
        }
      ],
      "source": [
        "!git clone https://github.com/am1tyadav/superhero"
      ]
    },
    {
      "cell_type": "code",
      "execution_count": null,
      "metadata": {
        "id": "uq4CLmsLpt2P",
        "colab": {
          "base_uri": "https://localhost:8080/",
          "height": 35
        },
        "outputId": "ee98694a-cf8e-4d44-93a6-b1d5de4c8d67"
      },
      "outputs": [
        {
          "output_type": "execute_result",
          "data": {
            "text/plain": [
              "'jumpa\\t\\ndoctor fate\\t\\nstarlight\\t\\nisildur\\t\\nlasher\\t\\nvarvara\\t\\nthe target\\t\\naxel\\t\\nbattra\\t\\nchangeling\\t\\npyrrh'"
            ],
            "application/vnd.google.colaboratory.intrinsic+json": {
              "type": "string"
            }
          },
          "metadata": {},
          "execution_count": 2
        }
      ],
      "source": [
        "with open('superhero/superheroes.txt', 'r') as f:\n",
        "  data = f.read()\n",
        "\n",
        "data[:100]\n"
      ]
    },
    {
      "cell_type": "code",
      "execution_count": 1,
      "metadata": {
        "id": "JqhtLuAHpt2R"
      },
      "outputs": [],
      "source": [
        "import tensorflow as tf"
      ]
    },
    {
      "cell_type": "code",
      "execution_count": null,
      "metadata": {
        "id": "95Lo1Yqzpt2T"
      },
      "outputs": [],
      "source": [
        "tokenizer = tf.keras.preprocessing.text.Tokenizer(\n",
        "    filters='!\"#$%&()*+,-./:;<=>?@[\\\\]^_`{|}~',\n",
        "    split='\\n',\n",
        ")"
      ]
    },
    {
      "cell_type": "code",
      "execution_count": null,
      "metadata": {
        "id": "qYfC4sj2pt2V"
      },
      "outputs": [],
      "source": [
        "tokenizer.fit_on_texts(data)"
      ]
    },
    {
      "cell_type": "code",
      "execution_count": null,
      "metadata": {
        "id": "EO4-dPM6pt2X",
        "colab": {
          "base_uri": "https://localhost:8080/"
        },
        "outputId": "ab2eeb26-b4db-43b8-98e7-1832c964b8db"
      },
      "outputs": [
        {
          "output_type": "stream",
          "name": "stdout",
          "text": [
            "{1: '\\t', 2: 'a', 3: 'e', 4: 'r', 5: 'o', 6: 'n', 7: 'i', 8: ' ', 9: 't', 10: 's', 11: 'l', 12: 'm', 13: 'h', 14: 'd', 15: 'c', 16: 'u', 17: 'g', 18: 'k', 19: 'b', 20: 'p', 21: 'y', 22: 'w', 23: 'f', 24: 'v', 25: 'j', 26: 'z', 27: 'x', 28: 'q'}\n"
          ]
        }
      ],
      "source": [
        "char_to_index = tokenizer.word_index\n",
        "index_to_char = dict((v, k) for k, v in char_to_index.items())\n",
        "\n",
        "print(index_to_char)"
      ]
    },
    {
      "cell_type": "markdown",
      "metadata": {
        "id": "SMwtIw_Bpt2Z"
      },
      "source": [
        "\n",
        "\n",
        "Converting between names and sequences"
      ]
    },
    {
      "cell_type": "code",
      "execution_count": null,
      "metadata": {
        "id": "N7iQLIXzpt2a",
        "colab": {
          "base_uri": "https://localhost:8080/"
        },
        "outputId": "f9844306-d19e-4b4f-c4b8-2a9d6d20e41b"
      },
      "outputs": [
        {
          "output_type": "execute_result",
          "data": {
            "text/plain": [
              "['jumpa\\t',\n",
              " 'doctor fate\\t',\n",
              " 'starlight\\t',\n",
              " 'isildur\\t',\n",
              " 'lasher\\t',\n",
              " 'varvara\\t',\n",
              " 'the target\\t',\n",
              " 'axel\\t',\n",
              " 'battra\\t',\n",
              " 'changeling\\t']"
            ]
          },
          "metadata": {},
          "execution_count": 7
        }
      ],
      "source": [
        "names = data.splitlines()\n",
        "names[:10]"
      ]
    },
    {
      "cell_type": "code",
      "execution_count": null,
      "metadata": {
        "id": "n_-TTfqipt2c",
        "colab": {
          "base_uri": "https://localhost:8080/"
        },
        "outputId": "ad3eebbb-193f-4e89-d89e-97e9154d1055"
      },
      "outputs": [
        {
          "output_type": "execute_result",
          "data": {
            "text/plain": [
              "[[25], [16], [12], [20], [2], [1]]"
            ]
          },
          "metadata": {},
          "execution_count": 8
        }
      ],
      "source": [
        "tokenizer.texts_to_sequences(names[0])"
      ]
    },
    {
      "cell_type": "code",
      "execution_count": null,
      "metadata": {
        "id": "P6IsKH1Upt2e"
      },
      "outputs": [],
      "source": [
        "def name_to_seq(name):\n",
        "  return [tokenizer.texts_to_sequences(c)[0][0] for c in name]"
      ]
    },
    {
      "cell_type": "code",
      "execution_count": null,
      "metadata": {
        "id": "TuLUiMP3pt2g",
        "colab": {
          "base_uri": "https://localhost:8080/"
        },
        "outputId": "a0a901f8-46a6-4228-c980-5f5b8b4b6a24"
      },
      "outputs": [
        {
          "output_type": "execute_result",
          "data": {
            "text/plain": [
              "[25, 16, 12, 20, 2, 1]"
            ]
          },
          "metadata": {},
          "execution_count": 10
        }
      ],
      "source": [
        "name_to_seq(names[0])"
      ]
    },
    {
      "cell_type": "code",
      "execution_count": null,
      "metadata": {
        "id": "yFUYhimKpt2h"
      },
      "outputs": [],
      "source": [
        "def seq_to_name(seq):\n",
        "  return ''.join([index_to_char[i] for i in seq if i != 0])"
      ]
    },
    {
      "cell_type": "code",
      "execution_count": null,
      "metadata": {
        "id": "ROhCqmhLpt2k",
        "colab": {
          "base_uri": "https://localhost:8080/",
          "height": 35
        },
        "outputId": "47bbe92d-5616-403b-f59d-ea48595bfd26"
      },
      "outputs": [
        {
          "output_type": "execute_result",
          "data": {
            "text/plain": [
              "'jumpa\\t'"
            ],
            "application/vnd.google.colaboratory.intrinsic+json": {
              "type": "string"
            }
          },
          "metadata": {},
          "execution_count": 12
        }
      ],
      "source": [
        "seq_to_name(name_to_seq(names[0]))"
      ]
    },
    {
      "cell_type": "markdown",
      "metadata": {
        "id": "uCbAzsNjpt2m"
      },
      "source": [
        "\n",
        "\n",
        "1. Creating sequences\n",
        "2. Padding all sequences"
      ]
    },
    {
      "cell_type": "code",
      "execution_count": null,
      "metadata": {
        "id": "zstNn-0dpt2m"
      },
      "outputs": [],
      "source": [
        "sequences = []\n",
        "for name in names:\n",
        "  seq = name_to_seq(name)\n",
        "  if len(seq) >= 2:\n",
        "    sequences += [seq[:i]for i in range(2, len(seq) + 1)]\n",
        "    "
      ]
    },
    {
      "cell_type": "code",
      "execution_count": null,
      "metadata": {
        "id": "BjRTMysvpt2o",
        "colab": {
          "base_uri": "https://localhost:8080/"
        },
        "outputId": "440cea82-bf01-4d22-b422-469eb7dd38c5"
      },
      "outputs": [
        {
          "output_type": "execute_result",
          "data": {
            "text/plain": [
              "[[25, 16],\n",
              " [25, 16, 12],\n",
              " [25, 16, 12, 20],\n",
              " [25, 16, 12, 20, 2],\n",
              " [25, 16, 12, 20, 2, 1],\n",
              " [14, 5],\n",
              " [14, 5, 15],\n",
              " [14, 5, 15, 9],\n",
              " [14, 5, 15, 9, 5],\n",
              " [14, 5, 15, 9, 5, 4]]"
            ]
          },
          "metadata": {},
          "execution_count": 14
        }
      ],
      "source": [
        "sequences[:10]"
      ]
    },
    {
      "cell_type": "code",
      "execution_count": null,
      "metadata": {
        "id": "SR68pu2tpt2q",
        "colab": {
          "base_uri": "https://localhost:8080/"
        },
        "outputId": "d79cc7c1-f6d0-4b23-e4e1-0569c367b583"
      },
      "outputs": [
        {
          "output_type": "stream",
          "name": "stdout",
          "text": [
            "33\n"
          ]
        }
      ],
      "source": [
        "max_len = max([len(x) for x in sequences])\n",
        "print(max_len)"
      ]
    },
    {
      "cell_type": "code",
      "execution_count": null,
      "metadata": {
        "id": "h_1BtWO7pt2r",
        "colab": {
          "base_uri": "https://localhost:8080/"
        },
        "outputId": "45dc16fa-4c01-4d7c-b278-dd5ed8e40134"
      },
      "outputs": [
        {
          "output_type": "stream",
          "name": "stdout",
          "text": [
            "[ 0  0  0  0  0  0  0  0  0  0  0  0  0  0  0  0  0  0  0  0  0  0  0  0\n",
            "  0  0  0  0  0  0  0 25 16]\n"
          ]
        }
      ],
      "source": [
        "padded_sequences = tf.keras.preprocessing.sequence.pad_sequences(\n",
        "    sequences, padding='pre',\n",
        "    maxlen= max_len\n",
        ")\n",
        "\n",
        "print(padded_sequences[0])"
      ]
    },
    {
      "cell_type": "code",
      "execution_count": null,
      "metadata": {
        "id": "sPlrLRpSpt2t",
        "colab": {
          "base_uri": "https://localhost:8080/"
        },
        "outputId": "91d72963-c90e-41d5-bd24-08794d2fc897"
      },
      "outputs": [
        {
          "output_type": "execute_result",
          "data": {
            "text/plain": [
              "(88279, 33)"
            ]
          },
          "metadata": {},
          "execution_count": 18
        }
      ],
      "source": [
        "padded_sequences.shape"
      ]
    },
    {
      "cell_type": "markdown",
      "metadata": {
        "id": "ol0nvIufqMiU"
      },
      "source": [
        "\n",
        "\n",
        "Creating training and validation sets"
      ]
    },
    {
      "cell_type": "code",
      "execution_count": null,
      "metadata": {
        "id": "BE4BIeSnpt2v",
        "colab": {
          "base_uri": "https://localhost:8080/"
        },
        "outputId": "5746f3c4-3853-4dca-afd5-9c94e0bf6d44"
      },
      "outputs": [
        {
          "output_type": "stream",
          "name": "stdout",
          "text": [
            "(88279, 32) (88279,)\n"
          ]
        }
      ],
      "source": [
        "x, y = padded_sequences[:, :-1], padded_sequences[:, -1]\n",
        "print(x.shape, y.shape)"
      ]
    },
    {
      "cell_type": "code",
      "execution_count": null,
      "metadata": {
        "id": "583EbvCdqMiU",
        "colab": {
          "base_uri": "https://localhost:8080/"
        },
        "outputId": "2f3ec614-00d2-4a6f-fdd4-a8931f3c7184"
      },
      "outputs": [
        {
          "output_type": "stream",
          "name": "stdout",
          "text": [
            "(66209, 32) (66209,)\n",
            "(22070, 32) (22070,)\n"
          ]
        }
      ],
      "source": [
        "from sklearn.model_selection import train_test_split\n",
        "\n",
        "x_train, x_test, y_train, y_test = train_test_split(x, y)\n",
        "\n",
        "print(x_train.shape, y_train.shape)\n",
        "print(x_test.shape, y_test.shape)"
      ]
    },
    {
      "cell_type": "code",
      "execution_count": null,
      "metadata": {
        "id": "cgqRZtqnpt2x",
        "colab": {
          "base_uri": "https://localhost:8080/"
        },
        "outputId": "1930d8a9-0e87-4b5f-ef71-d3b41d1d89b1"
      },
      "outputs": [
        {
          "output_type": "stream",
          "name": "stdout",
          "text": [
            "29\n"
          ]
        }
      ],
      "source": [
        "num_chars = len(char_to_index.keys()) + 1\n",
        "print(num_chars)"
      ]
    },
    {
      "cell_type": "markdown",
      "metadata": {
        "id": "DKxU0djEqMiU"
      },
      "source": [
        "Creating the Model"
      ]
    },
    {
      "cell_type": "code",
      "source": [
        "import tensorflow\n",
        "from tensorflow.keras.models import Sequential\n",
        "from tensorflow.keras.layers import Embedding, Conv1D, MaxPool1D, LSTM\n",
        "from tensorflow.keras.layers import Bidirectional, Dense"
      ],
      "metadata": {
        "id": "cvqyUAgjsCIF"
      },
      "execution_count": null,
      "outputs": []
    },
    {
      "cell_type": "code",
      "execution_count": null,
      "metadata": {
        "id": "8JLThqylqMiV",
        "colab": {
          "base_uri": "https://localhost:8080/"
        },
        "outputId": "9fec6bc9-4638-49a8-95ce-d53ca2f4bdb3"
      },
      "outputs": [
        {
          "output_type": "stream",
          "name": "stdout",
          "text": [
            "Model: \"sequential_2\"\n",
            "_________________________________________________________________\n",
            " Layer (type)                Output Shape              Param #   \n",
            "=================================================================\n",
            " embedding_4 (Embedding)     (None, 32, 8)             232       \n",
            "                                                                 \n",
            " conv1d_4 (Conv1D)           (None, 32, 64)            2624      \n",
            "                                                                 \n",
            " max_pooling1d_4 (MaxPooling  (None, 16, 64)           0         \n",
            " 1D)                                                             \n",
            "                                                                 \n",
            " lstm_4 (LSTM)               (None, 32)                12416     \n",
            "                                                                 \n",
            " dense_2 (Dense)             (None, 29)                957       \n",
            "                                                                 \n",
            "=================================================================\n",
            "Total params: 16,229\n",
            "Trainable params: 16,229\n",
            "Non-trainable params: 0\n",
            "_________________________________________________________________\n"
          ]
        }
      ],
      "source": [
        "\n",
        "\n",
        "model = Sequential([\n",
        "                    Embedding(num_chars, 8, input_length = max_len-1),\n",
        "                    Conv1D(64, 5, strides=1, activation='tanh', padding='causal'),\n",
        "                    MaxPool1D(2),\n",
        "                    LSTM(32),\n",
        "                    Dense(num_chars, activation='softmax')\n",
        "])\n",
        "\n",
        "model.compile(\n",
        "    loss='sparse_categorical_crossentropy',\n",
        "    optimizer='adam',\n",
        "    metrics=['accuracy']\n",
        ")\n",
        "model.summary()"
      ]
    },
    {
      "cell_type": "markdown",
      "metadata": {
        "id": "a0qxDkBpqMiV"
      },
      "source": [
        "Training the Model"
      ]
    },
    {
      "cell_type": "code",
      "execution_count": null,
      "metadata": {
        "id": "j0Ssl4qupt22",
        "colab": {
          "base_uri": "https://localhost:8080/"
        },
        "outputId": "a30c9bd6-feca-483b-9741-eef528a538dd"
      },
      "outputs": [
        {
          "output_type": "stream",
          "name": "stdout",
          "text": [
            "Epoch 1/50\n",
            "2070/2070 - 32s - loss: 2.7590 - accuracy: 0.1846 - val_loss: 2.5869 - val_accuracy: 0.2203 - 32s/epoch - 15ms/step\n",
            "Epoch 2/50\n",
            "2070/2070 - 17s - loss: 2.5489 - accuracy: 0.2313 - val_loss: 2.5092 - val_accuracy: 0.2408 - 17s/epoch - 8ms/step\n",
            "Epoch 3/50\n",
            "2070/2070 - 17s - loss: 2.4852 - accuracy: 0.2492 - val_loss: 2.4598 - val_accuracy: 0.2522 - 17s/epoch - 8ms/step\n",
            "Epoch 4/50\n",
            "2070/2070 - 17s - loss: 2.4402 - accuracy: 0.2624 - val_loss: 2.4216 - val_accuracy: 0.2665 - 17s/epoch - 8ms/step\n",
            "Epoch 5/50\n",
            "2070/2070 - 17s - loss: 2.4028 - accuracy: 0.2719 - val_loss: 2.3933 - val_accuracy: 0.2737 - 17s/epoch - 8ms/step\n",
            "Epoch 6/50\n",
            "2070/2070 - 17s - loss: 2.3709 - accuracy: 0.2814 - val_loss: 2.3673 - val_accuracy: 0.2791 - 17s/epoch - 8ms/step\n",
            "Epoch 7/50\n",
            "2070/2070 - 17s - loss: 2.3436 - accuracy: 0.2896 - val_loss: 2.3420 - val_accuracy: 0.2864 - 17s/epoch - 8ms/step\n",
            "Epoch 8/50\n",
            "2070/2070 - 17s - loss: 2.3188 - accuracy: 0.2973 - val_loss: 2.3306 - val_accuracy: 0.2897 - 17s/epoch - 8ms/step\n",
            "Epoch 9/50\n",
            "2070/2070 - 17s - loss: 2.2964 - accuracy: 0.3034 - val_loss: 2.3099 - val_accuracy: 0.2967 - 17s/epoch - 8ms/step\n",
            "Epoch 10/50\n",
            "2070/2070 - 17s - loss: 2.2756 - accuracy: 0.3109 - val_loss: 2.3027 - val_accuracy: 0.3047 - 17s/epoch - 8ms/step\n",
            "Epoch 11/50\n",
            "2070/2070 - 17s - loss: 2.2564 - accuracy: 0.3180 - val_loss: 2.2866 - val_accuracy: 0.3082 - 17s/epoch - 8ms/step\n",
            "Epoch 12/50\n",
            "2070/2070 - 17s - loss: 2.2385 - accuracy: 0.3240 - val_loss: 2.2753 - val_accuracy: 0.3131 - 17s/epoch - 8ms/step\n",
            "Epoch 13/50\n",
            "2070/2070 - 17s - loss: 2.2209 - accuracy: 0.3297 - val_loss: 2.2739 - val_accuracy: 0.3188 - 17s/epoch - 8ms/step\n",
            "Epoch 14/50\n",
            "2070/2070 - 17s - loss: 2.2059 - accuracy: 0.3338 - val_loss: 2.2576 - val_accuracy: 0.3237 - 17s/epoch - 8ms/step\n",
            "Epoch 15/50\n",
            "2070/2070 - 17s - loss: 2.1910 - accuracy: 0.3393 - val_loss: 2.2540 - val_accuracy: 0.3270 - 17s/epoch - 8ms/step\n",
            "Epoch 16/50\n",
            "2070/2070 - 17s - loss: 2.1787 - accuracy: 0.3437 - val_loss: 2.2446 - val_accuracy: 0.3288 - 17s/epoch - 8ms/step\n",
            "Epoch 17/50\n",
            "2070/2070 - 17s - loss: 2.1658 - accuracy: 0.3483 - val_loss: 2.2372 - val_accuracy: 0.3330 - 17s/epoch - 8ms/step\n",
            "Epoch 18/50\n",
            "2070/2070 - 17s - loss: 2.1536 - accuracy: 0.3521 - val_loss: 2.2308 - val_accuracy: 0.3366 - 17s/epoch - 8ms/step\n",
            "Epoch 19/50\n",
            "2070/2070 - 17s - loss: 2.1418 - accuracy: 0.3555 - val_loss: 2.2306 - val_accuracy: 0.3382 - 17s/epoch - 8ms/step\n",
            "Epoch 20/50\n",
            "2070/2070 - 17s - loss: 2.1320 - accuracy: 0.3594 - val_loss: 2.2246 - val_accuracy: 0.3379 - 17s/epoch - 8ms/step\n",
            "Epoch 21/50\n",
            "2070/2070 - 17s - loss: 2.1214 - accuracy: 0.3624 - val_loss: 2.2224 - val_accuracy: 0.3391 - 17s/epoch - 8ms/step\n",
            "Epoch 22/50\n",
            "2070/2070 - 17s - loss: 2.1126 - accuracy: 0.3650 - val_loss: 2.2180 - val_accuracy: 0.3391 - 17s/epoch - 8ms/step\n",
            "Epoch 23/50\n",
            "2070/2070 - 17s - loss: 2.1040 - accuracy: 0.3666 - val_loss: 2.2140 - val_accuracy: 0.3446 - 17s/epoch - 8ms/step\n",
            "Epoch 24/50\n",
            "2070/2070 - 17s - loss: 2.0957 - accuracy: 0.3711 - val_loss: 2.2098 - val_accuracy: 0.3456 - 17s/epoch - 8ms/step\n",
            "Epoch 25/50\n",
            "2070/2070 - 17s - loss: 2.0875 - accuracy: 0.3753 - val_loss: 2.2097 - val_accuracy: 0.3474 - 17s/epoch - 8ms/step\n",
            "Epoch 26/50\n",
            "2070/2070 - 17s - loss: 2.0804 - accuracy: 0.3762 - val_loss: 2.2077 - val_accuracy: 0.3457 - 17s/epoch - 8ms/step\n",
            "Epoch 27/50\n",
            "2070/2070 - 17s - loss: 2.0726 - accuracy: 0.3798 - val_loss: 2.2059 - val_accuracy: 0.3457 - 17s/epoch - 8ms/step\n",
            "Epoch 28/50\n",
            "2070/2070 - 17s - loss: 2.0654 - accuracy: 0.3819 - val_loss: 2.2047 - val_accuracy: 0.3493 - 17s/epoch - 8ms/step\n",
            "Epoch 29/50\n",
            "2070/2070 - 17s - loss: 2.0595 - accuracy: 0.3821 - val_loss: 2.2009 - val_accuracy: 0.3523 - 17s/epoch - 8ms/step\n",
            "Epoch 30/50\n",
            "2070/2070 - 17s - loss: 2.0527 - accuracy: 0.3869 - val_loss: 2.2026 - val_accuracy: 0.3509 - 17s/epoch - 8ms/step\n",
            "Epoch 31/50\n",
            "2070/2070 - 17s - loss: 2.0474 - accuracy: 0.3866 - val_loss: 2.2008 - val_accuracy: 0.3526 - 17s/epoch - 8ms/step\n",
            "Epoch 32/50\n",
            "2070/2070 - 17s - loss: 2.0412 - accuracy: 0.3908 - val_loss: 2.2010 - val_accuracy: 0.3509 - 17s/epoch - 8ms/step\n",
            "Epoch 33/50\n",
            "2070/2070 - 17s - loss: 2.0363 - accuracy: 0.3901 - val_loss: 2.2025 - val_accuracy: 0.3533 - 17s/epoch - 8ms/step\n",
            "Epoch 34/50\n",
            "2070/2070 - 17s - loss: 2.0309 - accuracy: 0.3938 - val_loss: 2.1984 - val_accuracy: 0.3531 - 17s/epoch - 8ms/step\n",
            "Epoch 35/50\n",
            "2070/2070 - 17s - loss: 2.0256 - accuracy: 0.3944 - val_loss: 2.1997 - val_accuracy: 0.3538 - 17s/epoch - 8ms/step\n",
            "Epoch 36/50\n",
            "2070/2070 - 17s - loss: 2.0217 - accuracy: 0.3957 - val_loss: 2.1984 - val_accuracy: 0.3578 - 17s/epoch - 8ms/step\n",
            "Epoch 37/50\n",
            "2070/2070 - 17s - loss: 2.0169 - accuracy: 0.3967 - val_loss: 2.1993 - val_accuracy: 0.3528 - 17s/epoch - 8ms/step\n",
            "Epoch 38/50\n",
            "2070/2070 - 17s - loss: 2.0125 - accuracy: 0.3983 - val_loss: 2.2003 - val_accuracy: 0.3560 - 17s/epoch - 8ms/step\n",
            "Epoch 39/50\n",
            "2070/2070 - 17s - loss: 2.0081 - accuracy: 0.4010 - val_loss: 2.2037 - val_accuracy: 0.3552 - 17s/epoch - 8ms/step\n"
          ]
        }
      ],
      "source": [
        "\n",
        "h = model.fit(\n",
        "    x_train, y_train,\n",
        "    validation_data = (x_test, y_test),\n",
        "    epochs=50, verbose=2,\n",
        "    callbacks = [tf.keras.callbacks.EarlyStopping(monitor='val_accuracy', patience=3)\n",
        "    ])\n"
      ]
    },
    {
      "cell_type": "markdown",
      "metadata": {
        "id": "Bx_NTmbgqMiV"
      },
      "source": [
        "Generate Names!"
      ]
    },
    {
      "cell_type": "code",
      "execution_count": null,
      "metadata": {
        "id": "9f50aTRcpt24"
      },
      "outputs": [],
      "source": [
        "from math import trunc\n",
        "def generate_names(seed):\n",
        "  for i in range(0, 40):\n",
        "    seq = name_to_seq(seed)\n",
        "    padded = tf.keras.preprocessing.sequence.pad_sequences([seq], padding='pre', maxlen=max_len-1, truncating='pre'\n",
        "    )\n",
        "\n",
        "    pred = model.predict(padded)[0]\n",
        "    pred_char = index_to_char[tf.argmax(pred).numpy()]\n",
        "    seed += pred_char\n",
        " \n",
        "    if pred_char == '\\t':\n",
        "      break\n",
        "  print(seed)"
      ]
    },
    {
      "cell_type": "code",
      "execution_count": null,
      "metadata": {
        "id": "faQ0FInlpt26",
        "colab": {
          "base_uri": "https://localhost:8080/"
        },
        "outputId": "657e808a-1e26-4dff-bc73-68e71b20cf08"
      },
      "outputs": [
        {
          "output_type": "stream",
          "name": "stdout",
          "text": [
            "frack man\t\n"
          ]
        }
      ],
      "source": [
        "\n",
        "generate_names('f')"
      ]
    }
  ],
  "metadata": {
    "accelerator": "GPU",
    "colab": {
      "collapsed_sections": [],
      "name": "Superhero Name Generator NLP .ipynb",
      "provenance": []
    },
    "kernelspec": {
      "display_name": "Python 3",
      "language": "python",
      "name": "python3"
    },
    "language_info": {
      "codemirror_mode": {
        "name": "ipython",
        "version": 3
      },
      "file_extension": ".py",
      "mimetype": "text/x-python",
      "name": "python",
      "nbconvert_exporter": "python",
      "pygments_lexer": "ipython3",
      "version": "3.8.3"
    }
  },
  "nbformat": 4,
  "nbformat_minor": 0
}